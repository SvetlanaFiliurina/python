{
 "cells": [
  {
   "cell_type": "markdown",
   "id": "8adb0c7c",
   "metadata": {},
   "source": [
    "# 9.10. PROJECT. Определяем количество ботов на сайте\n",
    "1. Оценить количество ботов, которые заходят на наш сайт, и их долю от всего трафика.\n",
    "2. Определить, с каких источников и в какое время суток чаще всего заходят роботы."
   ]
  },
  {
   "cell_type": "code",
   "execution_count": 1,
   "id": "0f1fa97a",
   "metadata": {},
   "outputs": [],
   "source": [
    "import json \n",
    "import requests\n",
    "import pandas as pd \n",
    "from pprint import pprint"
   ]
  },
  {
   "cell_type": "markdown",
   "id": "008fc907",
   "metadata": {},
   "source": [
    "Делаем запрос по API с помощью следующих параметров:"
   ]
  },
  {
   "cell_type": "code",
   "execution_count": 2,
   "id": "d40293cf",
   "metadata": {},
   "outputs": [],
   "source": [
    "token='AQAAAAABeRTAAAdQDtX3WHMRtEaXg9r4JXfvEDQ'\n",
    "headers = {'Authorization': 'OAuth ' + token}\n",
    "params = {'metrics': 'ym:s:visits,ym:s:robotPercentage',\n",
    "          'dimensions': 'ym:s:lastsignTrafficSource,ym:s:hour',\n",
    "          'date1': '2020-09-01',\n",
    "          'date2': '2020-09-30',     \n",
    "          'ids': 30177909,\n",
    "          'accuracy':'full',\n",
    "          'limit':100000}\n",
    "response = requests.get('https://api-metrika.yandex.net/stat/v1/data', params=params, headers=headers)"
   ]
  },
  {
   "cell_type": "markdown",
   "id": "0901d852",
   "metadata": {},
   "source": [
    "Получаем данные с помощью функции json(), примененной к запросу response. Создаем датафрейм metrika_df из данных статистики metrika_data['data']:"
   ]
  },
  {
   "cell_type": "code",
   "execution_count": 3,
   "id": "655cb729",
   "metadata": {},
   "outputs": [
    {
     "data": {
      "text/html": [
       "<div>\n",
       "<style scoped>\n",
       "    .dataframe tbody tr th:only-of-type {\n",
       "        vertical-align: middle;\n",
       "    }\n",
       "\n",
       "    .dataframe tbody tr th {\n",
       "        vertical-align: top;\n",
       "    }\n",
       "\n",
       "    .dataframe thead th {\n",
       "        text-align: right;\n",
       "    }\n",
       "</style>\n",
       "<table border=\"1\" class=\"dataframe\">\n",
       "  <thead>\n",
       "    <tr style=\"text-align: right;\">\n",
       "      <th></th>\n",
       "      <th>dimensions</th>\n",
       "      <th>metrics</th>\n",
       "    </tr>\n",
       "  </thead>\n",
       "  <tbody>\n",
       "    <tr>\n",
       "      <th>0</th>\n",
       "      <td>[{'icon_id': '2', 'icon_type': 'traffic-source...</td>\n",
       "      <td>[251.0, 24.70119522]</td>\n",
       "    </tr>\n",
       "    <tr>\n",
       "      <th>1</th>\n",
       "      <td>[{'icon_id': '2', 'icon_type': 'traffic-source...</td>\n",
       "      <td>[240.0, 26.25]</td>\n",
       "    </tr>\n",
       "    <tr>\n",
       "      <th>2</th>\n",
       "      <td>[{'icon_id': '2', 'icon_type': 'traffic-source...</td>\n",
       "      <td>[228.0, 25.87719298]</td>\n",
       "    </tr>\n",
       "    <tr>\n",
       "      <th>3</th>\n",
       "      <td>[{'icon_id': '2', 'icon_type': 'traffic-source...</td>\n",
       "      <td>[227.0, 28.1938326]</td>\n",
       "    </tr>\n",
       "    <tr>\n",
       "      <th>4</th>\n",
       "      <td>[{'icon_id': '2', 'icon_type': 'traffic-source...</td>\n",
       "      <td>[225.0, 24.88888889]</td>\n",
       "    </tr>\n",
       "  </tbody>\n",
       "</table>\n",
       "</div>"
      ],
      "text/plain": [
       "                                          dimensions               metrics\n",
       "0  [{'icon_id': '2', 'icon_type': 'traffic-source...  [251.0, 24.70119522]\n",
       "1  [{'icon_id': '2', 'icon_type': 'traffic-source...        [240.0, 26.25]\n",
       "2  [{'icon_id': '2', 'icon_type': 'traffic-source...  [228.0, 25.87719298]\n",
       "3  [{'icon_id': '2', 'icon_type': 'traffic-source...   [227.0, 28.1938326]\n",
       "4  [{'icon_id': '2', 'icon_type': 'traffic-source...  [225.0, 24.88888889]"
      ]
     },
     "metadata": {},
     "output_type": "display_data"
    }
   ],
   "source": [
    "metrika_data = response.json()\n",
    "metrika_data['data']\n",
    "metrika_df = pd.DataFrame(metrika_data['data'])\n",
    "display(metrika_df.head())"
   ]
  },
  {
   "cell_type": "markdown",
   "id": "45d22736",
   "metadata": {},
   "source": [
    "Создаем  функцию getMetrikaDataInListOfDicts() для того, чтобы избавиться от вложенных словарей."
   ]
  },
  {
   "cell_type": "code",
   "execution_count": 4,
   "id": "535955fc",
   "metadata": {},
   "outputs": [],
   "source": [
    "def getMetrikaDataInListOfDicts(metrika_data):\n",
    "    list_of_dicts = []\n",
    "    dimensions_list = metrika_data['query']['dimensions']\n",
    "    metrics_list = metrika_data['query']['metrics']\n",
    "    for data_item in metrika_data['data']:\n",
    "        d = {}\n",
    "        for i,dimension in enumerate(data_item['dimensions']):\n",
    "            d[dimensions_list[i]] = dimension['name']\n",
    "        for i,metric in enumerate(data_item['metrics']):\n",
    "            d[metrics_list[i]] = metric\n",
    "        list_of_dicts.append(d)\n",
    "    return list_of_dicts"
   ]
  },
  {
   "cell_type": "markdown",
   "id": "9d4ea71d",
   "metadata": {},
   "source": [
    "Преобразуем наши данные с помощью этой функции и запишем в переменную metrika_list_of_dicts:"
   ]
  },
  {
   "cell_type": "code",
   "execution_count": 5,
   "id": "019f0585",
   "metadata": {},
   "outputs": [
    {
     "name": "stdout",
     "output_type": "stream",
     "text": [
      "[{'ym:s:hour': '16:00',\n",
      "  'ym:s:lastsignTrafficSource': 'Search engine traffic',\n",
      "  'ym:s:robotPercentage': 24.70119522,\n",
      "  'ym:s:visits': 251.0},\n",
      " {'ym:s:hour': '15:00',\n",
      "  'ym:s:lastsignTrafficSource': 'Search engine traffic',\n",
      "  'ym:s:robotPercentage': 26.25,\n",
      "  'ym:s:visits': 240.0},\n",
      " {'ym:s:hour': '11:00',\n",
      "  'ym:s:lastsignTrafficSource': 'Search engine traffic',\n",
      "  'ym:s:robotPercentage': 25.87719298,\n",
      "  'ym:s:visits': 228.0}]\n"
     ]
    }
   ],
   "source": [
    "metrika_list_of_dicts = getMetrikaDataInListOfDicts(metrika_data)\n",
    "pprint(metrika_list_of_dicts[0:3])"
   ]
  },
  {
   "cell_type": "markdown",
   "id": "144f7359",
   "metadata": {},
   "source": [
    "Создаем датафрейм metrika_df. Для удобства переименуем столбцы и сразу же добавим новый столбец с расчётом количества ботов:"
   ]
  },
  {
   "cell_type": "code",
   "execution_count": 6,
   "id": "59071786",
   "metadata": {},
   "outputs": [
    {
     "data": {
      "text/html": [
       "<div>\n",
       "<style scoped>\n",
       "    .dataframe tbody tr th:only-of-type {\n",
       "        vertical-align: middle;\n",
       "    }\n",
       "\n",
       "    .dataframe tbody tr th {\n",
       "        vertical-align: top;\n",
       "    }\n",
       "\n",
       "    .dataframe thead th {\n",
       "        text-align: right;\n",
       "    }\n",
       "</style>\n",
       "<table border=\"1\" class=\"dataframe\">\n",
       "  <thead>\n",
       "    <tr style=\"text-align: right;\">\n",
       "      <th></th>\n",
       "      <th>TrafficSource</th>\n",
       "      <th>Hour</th>\n",
       "      <th>Visits</th>\n",
       "      <th>RobotPercent</th>\n",
       "      <th>Robot</th>\n",
       "    </tr>\n",
       "  </thead>\n",
       "  <tbody>\n",
       "    <tr>\n",
       "      <th>0</th>\n",
       "      <td>Search engine traffic</td>\n",
       "      <td>16:00</td>\n",
       "      <td>251.0</td>\n",
       "      <td>24.701195</td>\n",
       "      <td>62.0</td>\n",
       "    </tr>\n",
       "    <tr>\n",
       "      <th>1</th>\n",
       "      <td>Search engine traffic</td>\n",
       "      <td>15:00</td>\n",
       "      <td>240.0</td>\n",
       "      <td>26.250000</td>\n",
       "      <td>63.0</td>\n",
       "    </tr>\n",
       "    <tr>\n",
       "      <th>2</th>\n",
       "      <td>Search engine traffic</td>\n",
       "      <td>11:00</td>\n",
       "      <td>228.0</td>\n",
       "      <td>25.877193</td>\n",
       "      <td>59.0</td>\n",
       "    </tr>\n",
       "    <tr>\n",
       "      <th>3</th>\n",
       "      <td>Search engine traffic</td>\n",
       "      <td>13:00</td>\n",
       "      <td>227.0</td>\n",
       "      <td>28.193833</td>\n",
       "      <td>64.0</td>\n",
       "    </tr>\n",
       "    <tr>\n",
       "      <th>4</th>\n",
       "      <td>Search engine traffic</td>\n",
       "      <td>12:00</td>\n",
       "      <td>225.0</td>\n",
       "      <td>24.888889</td>\n",
       "      <td>56.0</td>\n",
       "    </tr>\n",
       "  </tbody>\n",
       "</table>\n",
       "</div>"
      ],
      "text/plain": [
       "           TrafficSource   Hour  Visits  RobotPercent  Robot\n",
       "0  Search engine traffic  16:00   251.0     24.701195   62.0\n",
       "1  Search engine traffic  15:00   240.0     26.250000   63.0\n",
       "2  Search engine traffic  11:00   228.0     25.877193   59.0\n",
       "3  Search engine traffic  13:00   227.0     28.193833   64.0\n",
       "4  Search engine traffic  12:00   225.0     24.888889   56.0"
      ]
     },
     "metadata": {},
     "output_type": "display_data"
    }
   ],
   "source": [
    "metrika_df = pd.DataFrame(metrika_list_of_dicts)\n",
    "metrika_df.columns=['TrafficSource','Hour','Visits','RobotPercent']\n",
    "metrika_df['Robot'] =(metrika_df['Visits']*metrika_df['RobotPercent'])/100\n",
    "display(metrika_df.head())"
   ]
  },
  {
   "cell_type": "markdown",
   "id": "e32613e0",
   "metadata": {},
   "source": [
    "Для того чтобы подробнее рассмотреть получившийся датафрейм используем метод info:"
   ]
  },
  {
   "cell_type": "code",
   "execution_count": 7,
   "id": "0d54d12a",
   "metadata": {},
   "outputs": [
    {
     "name": "stdout",
     "output_type": "stream",
     "text": [
      "<class 'pandas.core.frame.DataFrame'>\n",
      "RangeIndex: 107 entries, 0 to 106\n",
      "Data columns (total 5 columns):\n",
      " #   Column         Non-Null Count  Dtype  \n",
      "---  ------         --------------  -----  \n",
      " 0   TrafficSource  107 non-null    object \n",
      " 1   Hour           107 non-null    object \n",
      " 2   Visits         107 non-null    float64\n",
      " 3   RobotPercent   107 non-null    float64\n",
      " 4   Robot          107 non-null    float64\n",
      "dtypes: float64(3), object(2)\n",
      "memory usage: 4.3+ KB\n"
     ]
    },
    {
     "data": {
      "text/plain": [
       "None"
      ]
     },
     "metadata": {},
     "output_type": "display_data"
    }
   ],
   "source": [
    "display(metrika_df.info())"
   ]
  },
  {
   "cell_type": "markdown",
   "id": "356ee881",
   "metadata": {},
   "source": [
    "Как видим пропущенных значений нет ни в одном столбце (в каждом по 107 строк), а тип данных подходит для дальнейших расчетов, значит преоразования не требуются."
   ]
  },
  {
   "cell_type": "markdown",
   "id": "865316bc",
   "metadata": {},
   "source": [
    "Для ответа на первый вопрос создаем сводную таблицу pivot_metrika:"
   ]
  },
  {
   "cell_type": "code",
   "execution_count": 8,
   "id": "b05804d9",
   "metadata": {},
   "outputs": [
    {
     "data": {
      "text/html": [
       "<div>\n",
       "<style scoped>\n",
       "    .dataframe tbody tr th:only-of-type {\n",
       "        vertical-align: middle;\n",
       "    }\n",
       "\n",
       "    .dataframe tbody tr th {\n",
       "        vertical-align: top;\n",
       "    }\n",
       "\n",
       "    .dataframe thead th {\n",
       "        text-align: right;\n",
       "    }\n",
       "</style>\n",
       "<table border=\"1\" class=\"dataframe\">\n",
       "  <thead>\n",
       "    <tr style=\"text-align: right;\">\n",
       "      <th></th>\n",
       "      <th>Robot</th>\n",
       "      <th>Visits</th>\n",
       "    </tr>\n",
       "    <tr>\n",
       "      <th>TrafficSource</th>\n",
       "      <th></th>\n",
       "      <th></th>\n",
       "    </tr>\n",
       "  </thead>\n",
       "  <tbody>\n",
       "    <tr>\n",
       "      <th>Cached page traffic</th>\n",
       "      <td>1.0</td>\n",
       "      <td>6.0</td>\n",
       "    </tr>\n",
       "    <tr>\n",
       "      <th>Direct traffic</th>\n",
       "      <td>177.0</td>\n",
       "      <td>757.0</td>\n",
       "    </tr>\n",
       "    <tr>\n",
       "      <th>Internal traffic</th>\n",
       "      <td>3.0</td>\n",
       "      <td>10.0</td>\n",
       "    </tr>\n",
       "    <tr>\n",
       "      <th>Link traffic</th>\n",
       "      <td>31.0</td>\n",
       "      <td>126.0</td>\n",
       "    </tr>\n",
       "    <tr>\n",
       "      <th>Recommendation system traffic</th>\n",
       "      <td>0.0</td>\n",
       "      <td>2.0</td>\n",
       "    </tr>\n",
       "    <tr>\n",
       "      <th>Search engine traffic</th>\n",
       "      <td>739.0</td>\n",
       "      <td>3334.0</td>\n",
       "    </tr>\n",
       "    <tr>\n",
       "      <th>Social network traffic</th>\n",
       "      <td>11.0</td>\n",
       "      <td>80.0</td>\n",
       "    </tr>\n",
       "    <tr>\n",
       "      <th>All</th>\n",
       "      <td>962.0</td>\n",
       "      <td>4315.0</td>\n",
       "    </tr>\n",
       "  </tbody>\n",
       "</table>\n",
       "</div>"
      ],
      "text/plain": [
       "                               Robot  Visits\n",
       "TrafficSource                               \n",
       "Cached page traffic              1.0     6.0\n",
       "Direct traffic                 177.0   757.0\n",
       "Internal traffic                 3.0    10.0\n",
       "Link traffic                    31.0   126.0\n",
       "Recommendation system traffic    0.0     2.0\n",
       "Search engine traffic          739.0  3334.0\n",
       "Social network traffic          11.0    80.0\n",
       "All                            962.0  4315.0"
      ]
     },
     "execution_count": 8,
     "metadata": {},
     "output_type": "execute_result"
    }
   ],
   "source": [
    "pivot_metrika=metrika_df.pivot_table(values=['Visits','Robot'], index=['TrafficSource'], aggfunc='sum',margins=True)\n",
    "pivot_metrika"
   ]
  },
  {
   "cell_type": "code",
   "execution_count": 9,
   "id": "7f1b2c21",
   "metadata": {},
   "outputs": [
    {
     "name": "stdout",
     "output_type": "stream",
     "text": [
      "Общее количество визитов: 4315.0\n",
      "Общее количество роботов: 962\n",
      "Доля роботов в общем трафике: 22.29%\n"
     ]
    }
   ],
   "source": [
    "print ('Общее количество визитов: {}'.format((pivot_metrika.iloc[-1][1])))\n",
    "print ('Общее количество роботов: {}'.format(round(pivot_metrika.iloc[-1][0])))\n",
    "print ('Доля роботов в общем трафике: {:.2%}'.format(pivot_metrika.iloc[-1][0]/pivot_metrika.iloc[-1][1]))"
   ]
  },
  {
   "cell_type": "markdown",
   "id": "d1e439fa",
   "metadata": {},
   "source": [
    "# Выводы\n",
    "В ходе расчетов было найдено общее количество визитов на сайт за исследуемый период - 4 315. Из них роботов - 962, что составляет 22% от общего количества. Таким образом, видим, что доля реальных пользователей гораздо больше ботов."
   ]
  },
  {
   "cell_type": "markdown",
   "id": "f1637bb4",
   "metadata": {},
   "source": [
    "Для ответа на второй вопрос построим сводную таблицу с дополнительной разбивкой по времени, оставив только те строки, где визитов было больше 20, чтобы убрать непоказательные случаи, и отсортируем по убыванию доли роботов:"
   ]
  },
  {
   "cell_type": "code",
   "execution_count": 10,
   "id": "10476240",
   "metadata": {},
   "outputs": [
    {
     "data": {
      "text/html": [
       "<div>\n",
       "<style scoped>\n",
       "    .dataframe tbody tr th:only-of-type {\n",
       "        vertical-align: middle;\n",
       "    }\n",
       "\n",
       "    .dataframe tbody tr th {\n",
       "        vertical-align: top;\n",
       "    }\n",
       "\n",
       "    .dataframe thead th {\n",
       "        text-align: right;\n",
       "    }\n",
       "</style>\n",
       "<table border=\"1\" class=\"dataframe\">\n",
       "  <thead>\n",
       "    <tr style=\"text-align: right;\">\n",
       "      <th></th>\n",
       "      <th></th>\n",
       "      <th>Robot</th>\n",
       "      <th>RobotPercent</th>\n",
       "      <th>Visits</th>\n",
       "    </tr>\n",
       "    <tr>\n",
       "      <th>TrafficSource</th>\n",
       "      <th>Hour</th>\n",
       "      <th></th>\n",
       "      <th></th>\n",
       "      <th></th>\n",
       "    </tr>\n",
       "  </thead>\n",
       "  <tbody>\n",
       "    <tr>\n",
       "      <th rowspan=\"3\" valign=\"top\">Direct traffic</th>\n",
       "      <th>13:00</th>\n",
       "      <td>13.0</td>\n",
       "      <td>40.625000</td>\n",
       "      <td>32.0</td>\n",
       "    </tr>\n",
       "    <tr>\n",
       "      <th>09:00</th>\n",
       "      <td>12.0</td>\n",
       "      <td>32.432432</td>\n",
       "      <td>37.0</td>\n",
       "    </tr>\n",
       "    <tr>\n",
       "      <th>23:00</th>\n",
       "      <td>8.0</td>\n",
       "      <td>29.629630</td>\n",
       "      <td>27.0</td>\n",
       "    </tr>\n",
       "    <tr>\n",
       "      <th rowspan=\"5\" valign=\"top\">Search engine traffic</th>\n",
       "      <th>13:00</th>\n",
       "      <td>64.0</td>\n",
       "      <td>28.193833</td>\n",
       "      <td>227.0</td>\n",
       "    </tr>\n",
       "    <tr>\n",
       "      <th>17:00</th>\n",
       "      <td>55.0</td>\n",
       "      <td>26.315789</td>\n",
       "      <td>209.0</td>\n",
       "    </tr>\n",
       "    <tr>\n",
       "      <th>15:00</th>\n",
       "      <td>63.0</td>\n",
       "      <td>26.250000</td>\n",
       "      <td>240.0</td>\n",
       "    </tr>\n",
       "    <tr>\n",
       "      <th>11:00</th>\n",
       "      <td>59.0</td>\n",
       "      <td>25.877193</td>\n",
       "      <td>228.0</td>\n",
       "    </tr>\n",
       "    <tr>\n",
       "      <th>14:00</th>\n",
       "      <td>58.0</td>\n",
       "      <td>25.777778</td>\n",
       "      <td>225.0</td>\n",
       "    </tr>\n",
       "    <tr>\n",
       "      <th>Direct traffic</th>\n",
       "      <th>19:00</th>\n",
       "      <td>10.0</td>\n",
       "      <td>25.000000</td>\n",
       "      <td>40.0</td>\n",
       "    </tr>\n",
       "    <tr>\n",
       "      <th>Search engine traffic</th>\n",
       "      <th>12:00</th>\n",
       "      <td>56.0</td>\n",
       "      <td>24.888889</td>\n",
       "      <td>225.0</td>\n",
       "    </tr>\n",
       "  </tbody>\n",
       "</table>\n",
       "</div>"
      ],
      "text/plain": [
       "                             Robot  RobotPercent  Visits\n",
       "TrafficSource         Hour                              \n",
       "Direct traffic        13:00   13.0     40.625000    32.0\n",
       "                      09:00   12.0     32.432432    37.0\n",
       "                      23:00    8.0     29.629630    27.0\n",
       "Search engine traffic 13:00   64.0     28.193833   227.0\n",
       "                      17:00   55.0     26.315789   209.0\n",
       "                      15:00   63.0     26.250000   240.0\n",
       "                      11:00   59.0     25.877193   228.0\n",
       "                      14:00   58.0     25.777778   225.0\n",
       "Direct traffic        19:00   10.0     25.000000    40.0\n",
       "Search engine traffic 12:00   56.0     24.888889   225.0"
      ]
     },
     "execution_count": 10,
     "metadata": {},
     "output_type": "execute_result"
    }
   ],
   "source": [
    "metrika_df_more_visits=metrika_df[metrika_df['Visits']>20]\n",
    "pivot_metrika1=metrika_df_more_visits.pivot_table(values=['Visits','Robot','RobotPercent'], index=['TrafficSource','Hour'], aggfunc='sum').sort_values(by='RobotPercent',ascending=False)\n",
    "pivot_metrika1.head(10)"
   ]
  },
  {
   "cell_type": "markdown",
   "id": "ade82c50",
   "metadata": {},
   "source": [
    "# Выводы:\n",
    "Было определено, что чаще всего в процентном соотношении роботы заходят через Direct traffic в 13:00 (40% роботов от общего числа визитов). А наибольшее количество роботов заходят через Search engine traffic в 13:00 и 15:00 (в количестве 64 и 63 соответственно)."
   ]
  }
 ],
 "metadata": {
  "kernelspec": {
   "display_name": "Python 3",
   "language": "python",
   "name": "python3"
  },
  "language_info": {
   "codemirror_mode": {
    "name": "ipython",
    "version": 3
   },
   "file_extension": ".py",
   "mimetype": "text/x-python",
   "name": "python",
   "nbconvert_exporter": "python",
   "pygments_lexer": "ipython3",
   "version": "3.8.8"
  }
 },
 "nbformat": 4,
 "nbformat_minor": 5
}
