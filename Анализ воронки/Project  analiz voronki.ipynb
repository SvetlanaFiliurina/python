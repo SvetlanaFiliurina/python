{
 "cells": [
  {
   "cell_type": "markdown",
   "id": "b47efbc8",
   "metadata": {},
   "source": [
    "# ПРОЕКТ № 2. АНАЛИЗ ВОРОНКИ"
   ]
  },
  {
   "cell_type": "markdown",
   "id": "70e418e0",
   "metadata": {},
   "source": [
    "В данной работе анализируется поведение пользователей мобильной игры. Основные этапы прохождения: регистрация, старт обучения, окончание обучения, выбор уровня сложности, выбор пакета вопросов, покупка пакетов вопросов. Цель исследования: определить влияние этапа обучения на прохождение всей игры."
   ]
  },
  {
   "cell_type": "markdown",
   "id": "56df0b55",
   "metadata": {},
   "source": [
    "ЗАДАЧИ Проекта:\n",
    "\n",
    "1. Проверить, отличается ли время прохождения различных этапов для пользователей, которые прошли обучение, от пользователей, не начинавших обучение. Насколько обучение сокращает время прохождения этапов?\n",
    "\n",
    "2. Посмотреть, существует ли зависимость между вероятностью оплаты вопросов и количеством обучений, которые начинал или завершал пользователь. Нужно доказать, что успешное обучение само по себе влияет на оплату, и без разницы, каким этапом оно шло.\n",
    "\n",
    "3. Дополнительная задача. Как часто пользователи начинают обучение после того, как они выбрали уровень сложности?"
   ]
  },
  {
   "cell_type": "markdown",
   "id": "4c27dcc0",
   "metadata": {},
   "source": [
    "Получаем данные из файлов:"
   ]
  },
  {
   "cell_type": "code",
   "execution_count": 1,
   "id": "fae6cb5c",
   "metadata": {},
   "outputs": [],
   "source": [
    "import pandas as pd\n",
    "import warnings\n",
    "import matplotlib.pyplot as plt\n",
    "import seaborn as sns\n",
    "%matplotlib inline\n",
    "warnings.filterwarnings(\"ignore\")\n",
    "events_df=pd.read_csv('7_4_Events.csv')\n",
    "purchase_df=pd.read_csv('purchase.csv')"
   ]
  },
  {
   "cell_type": "markdown",
   "id": "5429aacb",
   "metadata": {},
   "source": [
    "Оставляем только тех пользователей, которые зарегистрировались в 2018 году и с помощью метода info(), получаем информацию о каждом датафрейме:"
   ]
  },
  {
   "cell_type": "code",
   "execution_count": 2,
   "id": "6f00f812",
   "metadata": {},
   "outputs": [
    {
     "name": "stdout",
     "output_type": "stream",
     "text": [
      "<class 'pandas.core.frame.DataFrame'>\n",
      "Int64Index: 66959 entries, 51405 to 118364\n",
      "Data columns (total 6 columns):\n",
      " #   Column          Non-Null Count  Dtype  \n",
      "---  ------          --------------  -----  \n",
      " 0   id              66959 non-null  int64  \n",
      " 1   event_type      66959 non-null  object \n",
      " 2   selected_level  8342 non-null   object \n",
      " 3   start_time      66959 non-null  object \n",
      " 4   tutorial_id     32954 non-null  float64\n",
      " 5   user_id         66959 non-null  int64  \n",
      "dtypes: float64(1), int64(2), object(3)\n",
      "memory usage: 3.6+ MB\n",
      "<class 'pandas.core.frame.DataFrame'>\n",
      "Int64Index: 1600 entries, 1171 to 2778\n",
      "Data columns (total 4 columns):\n",
      " #   Column          Non-Null Count  Dtype \n",
      "---  ------          --------------  ----- \n",
      " 0   id              1600 non-null   int64 \n",
      " 1   user_id         1600 non-null   int64 \n",
      " 2   event_datetime  1600 non-null   object\n",
      " 3   amount          1600 non-null   int64 \n",
      "dtypes: int64(3), object(1)\n",
      "memory usage: 62.5+ KB\n"
     ]
    }
   ],
   "source": [
    "events_2018=(events_df.start_time>='2018-01-01')&(events_df.start_time<'2019-01-01')&(events_df.event_type=='registration')\n",
    "registered=events_df[events_2018]['user_id'].to_list()\n",
    "reg_2018=events_df[events_df.user_id.isin(registered)]\n",
    "purchase_2018=purchase_df[purchase_df.user_id.isin(registered)]\n",
    "reg_2018.info()\n",
    "purchase_2018.info()"
   ]
  },
  {
   "cell_type": "code",
   "execution_count": 3,
   "id": "b93ca1a5",
   "metadata": {},
   "outputs": [
    {
     "name": "stdout",
     "output_type": "stream",
     "text": [
      "Количество строк без дубликатов в reg_2018: 66959 \n",
      "Количество строк без дубликатов в purchase_2018: 1600\n"
     ]
    }
   ],
   "source": [
    "print(f'Количество строк без дубликатов в reg_2018: {len(reg_2018.drop_duplicates())} ')\n",
    "print(f'Количество строк без дубликатов в purchase_2018: {len(purchase_2018.drop_duplicates())}')\n"
   ]
  },
  {
   "cell_type": "markdown",
   "id": "1f92afe8",
   "metadata": {},
   "source": [
    "Видим в обоих датафреймах неверный тип у столбцов, содержащих время (object).\n",
    "Наличие в двух столбцах (selected_level,tutorial_id) пропущенных значений в датафрейме reg_2018. Пропуски в столбце tutorial_id связаны с тем, что запись tutorial_id подразумевается для событий, связанных с обучением. Но для этих событий, отсутствуют параметры выбора уровня сложности selected_level. \n",
    "С помощью drop_duplicates убираем дубликаты строк, и видим, что количество строк не изменилось, значит дубликатов не было.\n"
   ]
  },
  {
   "cell_type": "markdown",
   "id": "4701e1b3",
   "metadata": {},
   "source": [
    "Производим преобразование типов: меняем формат дат в колонках start_time, event_datetime. Переименовываем столбцы, добавляем столбец 'event_type', который будет содержать одно значение purchase."
   ]
  },
  {
   "cell_type": "code",
   "execution_count": 4,
   "id": "142a53ab",
   "metadata": {},
   "outputs": [],
   "source": [
    "reg_2018.start_time=pd.to_datetime(reg_2018.start_time, format='%Y-%m-%dT%H:%M:%S')\n",
    "purchase_2018.event_datetime=pd.to_datetime(purchase_2018.event_datetime, format='%Y-%m-%dT%H:%M:%S')\n",
    "\n",
    "purchase_2018['event_type'] = 'purchase'\n",
    "reg_2018 = reg_2018.rename(columns={'id':'event_id'})\n",
    "purchase_2018 = purchase_2018.rename(columns={'id':'purchase_id', 'event_datetime': 'start_time'})"
   ]
  },
  {
   "cell_type": "markdown",
   "id": "c99852cf",
   "metadata": {},
   "source": [
    "Объединяем два получившихся датафрейма в один total_events_df:"
   ]
  },
  {
   "cell_type": "code",
   "execution_count": 5,
   "id": "d4b4cf4b",
   "metadata": {},
   "outputs": [
    {
     "data": {
      "text/html": [
       "<div>\n",
       "<style scoped>\n",
       "    .dataframe tbody tr th:only-of-type {\n",
       "        vertical-align: middle;\n",
       "    }\n",
       "\n",
       "    .dataframe tbody tr th {\n",
       "        vertical-align: top;\n",
       "    }\n",
       "\n",
       "    .dataframe thead th {\n",
       "        text-align: right;\n",
       "    }\n",
       "</style>\n",
       "<table border=\"1\" class=\"dataframe\">\n",
       "  <thead>\n",
       "    <tr style=\"text-align: right;\">\n",
       "      <th></th>\n",
       "      <th>event_id</th>\n",
       "      <th>event_type</th>\n",
       "      <th>selected_level</th>\n",
       "      <th>start_time</th>\n",
       "      <th>tutorial_id</th>\n",
       "      <th>user_id</th>\n",
       "      <th>purchase_id</th>\n",
       "      <th>amount</th>\n",
       "    </tr>\n",
       "  </thead>\n",
       "  <tbody>\n",
       "    <tr>\n",
       "      <th>0</th>\n",
       "      <td>80308.0</td>\n",
       "      <td>registration</td>\n",
       "      <td>NaN</td>\n",
       "      <td>2018-01-01 03:48:40</td>\n",
       "      <td>NaN</td>\n",
       "      <td>27832</td>\n",
       "      <td>NaN</td>\n",
       "      <td>NaN</td>\n",
       "    </tr>\n",
       "    <tr>\n",
       "      <th>1</th>\n",
       "      <td>80309.0</td>\n",
       "      <td>registration</td>\n",
       "      <td>NaN</td>\n",
       "      <td>2018-01-01 04:07:25</td>\n",
       "      <td>NaN</td>\n",
       "      <td>27833</td>\n",
       "      <td>NaN</td>\n",
       "      <td>NaN</td>\n",
       "    </tr>\n",
       "    <tr>\n",
       "      <th>2</th>\n",
       "      <td>80310.0</td>\n",
       "      <td>registration</td>\n",
       "      <td>NaN</td>\n",
       "      <td>2018-01-01 08:35:10</td>\n",
       "      <td>NaN</td>\n",
       "      <td>27834</td>\n",
       "      <td>NaN</td>\n",
       "      <td>NaN</td>\n",
       "    </tr>\n",
       "    <tr>\n",
       "      <th>3</th>\n",
       "      <td>80311.0</td>\n",
       "      <td>registration</td>\n",
       "      <td>NaN</td>\n",
       "      <td>2018-01-01 11:54:47</td>\n",
       "      <td>NaN</td>\n",
       "      <td>27835</td>\n",
       "      <td>NaN</td>\n",
       "      <td>NaN</td>\n",
       "    </tr>\n",
       "    <tr>\n",
       "      <th>4</th>\n",
       "      <td>80312.0</td>\n",
       "      <td>registration</td>\n",
       "      <td>NaN</td>\n",
       "      <td>2018-01-01 13:28:07</td>\n",
       "      <td>NaN</td>\n",
       "      <td>27836</td>\n",
       "      <td>NaN</td>\n",
       "      <td>NaN</td>\n",
       "    </tr>\n",
       "    <tr>\n",
       "      <th>...</th>\n",
       "      <td>...</td>\n",
       "      <td>...</td>\n",
       "      <td>...</td>\n",
       "      <td>...</td>\n",
       "      <td>...</td>\n",
       "      <td>...</td>\n",
       "      <td>...</td>\n",
       "      <td>...</td>\n",
       "    </tr>\n",
       "    <tr>\n",
       "      <th>68554</th>\n",
       "      <td>NaN</td>\n",
       "      <td>purchase</td>\n",
       "      <td>NaN</td>\n",
       "      <td>2019-01-02 03:48:19</td>\n",
       "      <td>NaN</td>\n",
       "      <td>47498</td>\n",
       "      <td>18441.0</td>\n",
       "      <td>100.0</td>\n",
       "    </tr>\n",
       "    <tr>\n",
       "      <th>68555</th>\n",
       "      <td>NaN</td>\n",
       "      <td>purchase</td>\n",
       "      <td>NaN</td>\n",
       "      <td>2019-01-02 23:26:26</td>\n",
       "      <td>NaN</td>\n",
       "      <td>47647</td>\n",
       "      <td>18442.0</td>\n",
       "      <td>150.0</td>\n",
       "    </tr>\n",
       "    <tr>\n",
       "      <th>68556</th>\n",
       "      <td>NaN</td>\n",
       "      <td>purchase</td>\n",
       "      <td>NaN</td>\n",
       "      <td>2019-01-03 00:36:36</td>\n",
       "      <td>NaN</td>\n",
       "      <td>47554</td>\n",
       "      <td>18443.0</td>\n",
       "      <td>50.0</td>\n",
       "    </tr>\n",
       "    <tr>\n",
       "      <th>68557</th>\n",
       "      <td>NaN</td>\n",
       "      <td>purchase</td>\n",
       "      <td>NaN</td>\n",
       "      <td>2019-01-04 12:51:41</td>\n",
       "      <td>NaN</td>\n",
       "      <td>47742</td>\n",
       "      <td>18448.0</td>\n",
       "      <td>50.0</td>\n",
       "    </tr>\n",
       "    <tr>\n",
       "      <th>68558</th>\n",
       "      <td>NaN</td>\n",
       "      <td>purchase</td>\n",
       "      <td>NaN</td>\n",
       "      <td>2019-01-06 07:14:25</td>\n",
       "      <td>NaN</td>\n",
       "      <td>47732</td>\n",
       "      <td>18452.0</td>\n",
       "      <td>150.0</td>\n",
       "    </tr>\n",
       "  </tbody>\n",
       "</table>\n",
       "<p>68559 rows × 8 columns</p>\n",
       "</div>"
      ],
      "text/plain": [
       "       event_id    event_type selected_level          start_time  tutorial_id  \\\n",
       "0       80308.0  registration            NaN 2018-01-01 03:48:40          NaN   \n",
       "1       80309.0  registration            NaN 2018-01-01 04:07:25          NaN   \n",
       "2       80310.0  registration            NaN 2018-01-01 08:35:10          NaN   \n",
       "3       80311.0  registration            NaN 2018-01-01 11:54:47          NaN   \n",
       "4       80312.0  registration            NaN 2018-01-01 13:28:07          NaN   \n",
       "...         ...           ...            ...                 ...          ...   \n",
       "68554       NaN      purchase            NaN 2019-01-02 03:48:19          NaN   \n",
       "68555       NaN      purchase            NaN 2019-01-02 23:26:26          NaN   \n",
       "68556       NaN      purchase            NaN 2019-01-03 00:36:36          NaN   \n",
       "68557       NaN      purchase            NaN 2019-01-04 12:51:41          NaN   \n",
       "68558       NaN      purchase            NaN 2019-01-06 07:14:25          NaN   \n",
       "\n",
       "       user_id  purchase_id  amount  \n",
       "0        27832          NaN     NaN  \n",
       "1        27833          NaN     NaN  \n",
       "2        27834          NaN     NaN  \n",
       "3        27835          NaN     NaN  \n",
       "4        27836          NaN     NaN  \n",
       "...        ...          ...     ...  \n",
       "68554    47498      18441.0   100.0  \n",
       "68555    47647      18442.0   150.0  \n",
       "68556    47554      18443.0    50.0  \n",
       "68557    47742      18448.0    50.0  \n",
       "68558    47732      18452.0   150.0  \n",
       "\n",
       "[68559 rows x 8 columns]"
      ]
     },
     "execution_count": 5,
     "metadata": {},
     "output_type": "execute_result"
    }
   ],
   "source": [
    "total_events_df = pd.concat([reg_2018,purchase_2018],sort=False)\n",
    "total_events_df = total_events_df.reset_index(drop=True).sort_values('start_time')\n",
    "total_events_df"
   ]
  },
  {
   "cell_type": "markdown",
   "id": "b8f87427",
   "metadata": {},
   "source": [
    "## 1.Проверка первой гипотезы"
   ]
  },
  {
   "cell_type": "markdown",
   "id": "077086d4",
   "metadata": {},
   "source": [
    "Для проверки первой гипотезы разделим пользователей на три группы:\n",
    "\n",
    "-Завершившие обучение (finished);\n",
    "\n",
    "-Не завершившие обучение (not_finished);\n",
    "\n",
    "-Без обучения (no_tutorial)."
   ]
  },
  {
   "cell_type": "markdown",
   "id": "a95c7e70",
   "metadata": {},
   "source": [
    "Создаем сводную таблицу с минимальным временем начала каждого события по каждому пользователю:"
   ]
  },
  {
   "cell_type": "code",
   "execution_count": 6,
   "id": "be63587b",
   "metadata": {},
   "outputs": [
    {
     "data": {
      "text/html": [
       "<div>\n",
       "<style scoped>\n",
       "    .dataframe tbody tr th:only-of-type {\n",
       "        vertical-align: middle;\n",
       "    }\n",
       "\n",
       "    .dataframe tbody tr th {\n",
       "        vertical-align: top;\n",
       "    }\n",
       "\n",
       "    .dataframe thead th {\n",
       "        text-align: right;\n",
       "    }\n",
       "</style>\n",
       "<table border=\"1\" class=\"dataframe\">\n",
       "  <thead>\n",
       "    <tr style=\"text-align: right;\">\n",
       "      <th>event_type</th>\n",
       "      <th>user_id</th>\n",
       "      <th>level_choice</th>\n",
       "      <th>pack_choice</th>\n",
       "      <th>purchase</th>\n",
       "      <th>registration</th>\n",
       "      <th>tutorial_finish</th>\n",
       "      <th>tutorial_start</th>\n",
       "    </tr>\n",
       "  </thead>\n",
       "  <tbody>\n",
       "    <tr>\n",
       "      <th>0</th>\n",
       "      <td>27832</td>\n",
       "      <td>NaT</td>\n",
       "      <td>NaT</td>\n",
       "      <td>NaT</td>\n",
       "      <td>2018-01-01 03:48:40</td>\n",
       "      <td>NaT</td>\n",
       "      <td>NaT</td>\n",
       "    </tr>\n",
       "    <tr>\n",
       "      <th>1</th>\n",
       "      <td>27833</td>\n",
       "      <td>NaT</td>\n",
       "      <td>NaT</td>\n",
       "      <td>NaT</td>\n",
       "      <td>2018-01-01 04:07:25</td>\n",
       "      <td>2018-01-01 17:50:08</td>\n",
       "      <td>2018-01-01 17:47:40</td>\n",
       "    </tr>\n",
       "    <tr>\n",
       "      <th>2</th>\n",
       "      <td>27834</td>\n",
       "      <td>NaT</td>\n",
       "      <td>NaT</td>\n",
       "      <td>NaT</td>\n",
       "      <td>2018-01-01 08:35:10</td>\n",
       "      <td>2018-01-01 19:48:01</td>\n",
       "      <td>2018-01-01 19:46:11</td>\n",
       "    </tr>\n",
       "    <tr>\n",
       "      <th>3</th>\n",
       "      <td>27835</td>\n",
       "      <td>2018-01-01 20:37:22</td>\n",
       "      <td>2018-01-01 20:38:43</td>\n",
       "      <td>NaT</td>\n",
       "      <td>2018-01-01 11:54:47</td>\n",
       "      <td>2018-01-01 15:06:15</td>\n",
       "      <td>2018-01-01 15:00:51</td>\n",
       "    </tr>\n",
       "    <tr>\n",
       "      <th>4</th>\n",
       "      <td>27836</td>\n",
       "      <td>NaT</td>\n",
       "      <td>NaT</td>\n",
       "      <td>NaT</td>\n",
       "      <td>2018-01-01 13:28:07</td>\n",
       "      <td>2018-01-01 15:42:58</td>\n",
       "      <td>2018-01-01 14:54:40</td>\n",
       "    </tr>\n",
       "  </tbody>\n",
       "</table>\n",
       "</div>"
      ],
      "text/plain": [
       "event_type  user_id        level_choice         pack_choice purchase  \\\n",
       "0             27832                 NaT                 NaT      NaT   \n",
       "1             27833                 NaT                 NaT      NaT   \n",
       "2             27834                 NaT                 NaT      NaT   \n",
       "3             27835 2018-01-01 20:37:22 2018-01-01 20:38:43      NaT   \n",
       "4             27836                 NaT                 NaT      NaT   \n",
       "\n",
       "event_type        registration     tutorial_finish      tutorial_start  \n",
       "0          2018-01-01 03:48:40                 NaT                 NaT  \n",
       "1          2018-01-01 04:07:25 2018-01-01 17:50:08 2018-01-01 17:47:40  \n",
       "2          2018-01-01 08:35:10 2018-01-01 19:48:01 2018-01-01 19:46:11  \n",
       "3          2018-01-01 11:54:47 2018-01-01 15:06:15 2018-01-01 15:00:51  \n",
       "4          2018-01-01 13:28:07 2018-01-01 15:42:58 2018-01-01 14:54:40  "
      ]
     },
     "execution_count": 6,
     "metadata": {},
     "output_type": "execute_result"
    }
   ],
   "source": [
    "pivot_df=total_events_df.pivot_table(values='start_time', index='user_id',columns='event_type', aggfunc='min')\n",
    "pivot_df=pivot_df.reset_index()\n",
    "pivot_df.head()"
   ]
  },
  {
   "cell_type": "markdown",
   "id": "4d183497",
   "metadata": {},
   "source": [
    "Добавляем к сводной таблице столбец с разделением на группы:"
   ]
  },
  {
   "cell_type": "code",
   "execution_count": 7,
   "id": "691b8c8a",
   "metadata": {
    "scrolled": true
   },
   "outputs": [
    {
     "data": {
      "text/html": [
       "<div>\n",
       "<style scoped>\n",
       "    .dataframe tbody tr th:only-of-type {\n",
       "        vertical-align: middle;\n",
       "    }\n",
       "\n",
       "    .dataframe tbody tr th {\n",
       "        vertical-align: top;\n",
       "    }\n",
       "\n",
       "    .dataframe thead th {\n",
       "        text-align: right;\n",
       "    }\n",
       "</style>\n",
       "<table border=\"1\" class=\"dataframe\">\n",
       "  <thead>\n",
       "    <tr style=\"text-align: right;\">\n",
       "      <th>event_type</th>\n",
       "      <th>user_id</th>\n",
       "      <th>level_choice</th>\n",
       "      <th>pack_choice</th>\n",
       "      <th>purchase</th>\n",
       "      <th>registration</th>\n",
       "      <th>tutorial_finish</th>\n",
       "      <th>tutorial_start</th>\n",
       "      <th>group</th>\n",
       "    </tr>\n",
       "  </thead>\n",
       "  <tbody>\n",
       "    <tr>\n",
       "      <th>0</th>\n",
       "      <td>27832</td>\n",
       "      <td>NaT</td>\n",
       "      <td>NaT</td>\n",
       "      <td>NaT</td>\n",
       "      <td>2018-01-01 03:48:40</td>\n",
       "      <td>NaT</td>\n",
       "      <td>NaT</td>\n",
       "      <td>no_tutorial</td>\n",
       "    </tr>\n",
       "    <tr>\n",
       "      <th>1</th>\n",
       "      <td>27833</td>\n",
       "      <td>NaT</td>\n",
       "      <td>NaT</td>\n",
       "      <td>NaT</td>\n",
       "      <td>2018-01-01 04:07:25</td>\n",
       "      <td>2018-01-01 17:50:08</td>\n",
       "      <td>2018-01-01 17:47:40</td>\n",
       "      <td>finished</td>\n",
       "    </tr>\n",
       "    <tr>\n",
       "      <th>2</th>\n",
       "      <td>27834</td>\n",
       "      <td>NaT</td>\n",
       "      <td>NaT</td>\n",
       "      <td>NaT</td>\n",
       "      <td>2018-01-01 08:35:10</td>\n",
       "      <td>2018-01-01 19:48:01</td>\n",
       "      <td>2018-01-01 19:46:11</td>\n",
       "      <td>finished</td>\n",
       "    </tr>\n",
       "    <tr>\n",
       "      <th>3</th>\n",
       "      <td>27835</td>\n",
       "      <td>2018-01-01 20:37:22</td>\n",
       "      <td>2018-01-01 20:38:43</td>\n",
       "      <td>NaT</td>\n",
       "      <td>2018-01-01 11:54:47</td>\n",
       "      <td>2018-01-01 15:06:15</td>\n",
       "      <td>2018-01-01 15:00:51</td>\n",
       "      <td>finished</td>\n",
       "    </tr>\n",
       "    <tr>\n",
       "      <th>4</th>\n",
       "      <td>27836</td>\n",
       "      <td>NaT</td>\n",
       "      <td>NaT</td>\n",
       "      <td>NaT</td>\n",
       "      <td>2018-01-01 13:28:07</td>\n",
       "      <td>2018-01-01 15:42:58</td>\n",
       "      <td>2018-01-01 14:54:40</td>\n",
       "      <td>finished</td>\n",
       "    </tr>\n",
       "  </tbody>\n",
       "</table>\n",
       "</div>"
      ],
      "text/plain": [
       "event_type  user_id        level_choice         pack_choice purchase  \\\n",
       "0             27832                 NaT                 NaT      NaT   \n",
       "1             27833                 NaT                 NaT      NaT   \n",
       "2             27834                 NaT                 NaT      NaT   \n",
       "3             27835 2018-01-01 20:37:22 2018-01-01 20:38:43      NaT   \n",
       "4             27836                 NaT                 NaT      NaT   \n",
       "\n",
       "event_type        registration     tutorial_finish      tutorial_start  \\\n",
       "0          2018-01-01 03:48:40                 NaT                 NaT   \n",
       "1          2018-01-01 04:07:25 2018-01-01 17:50:08 2018-01-01 17:47:40   \n",
       "2          2018-01-01 08:35:10 2018-01-01 19:48:01 2018-01-01 19:46:11   \n",
       "3          2018-01-01 11:54:47 2018-01-01 15:06:15 2018-01-01 15:00:51   \n",
       "4          2018-01-01 13:28:07 2018-01-01 15:42:58 2018-01-01 14:54:40   \n",
       "\n",
       "event_type        group  \n",
       "0           no_tutorial  \n",
       "1              finished  \n",
       "2              finished  \n",
       "3              finished  \n",
       "4              finished  "
      ]
     },
     "execution_count": 7,
     "metadata": {},
     "output_type": "execute_result"
    }
   ],
   "source": [
    "pivot_df['group'] = pivot_df.apply(lambda x: 'finished' if not pd.isnull(x.tutorial_finish) else 'no_tutorial' if pd.isnull(x.tutorial_start) else 'not_finished',axis=1)\n",
    "pivot_df.head()"
   ]
  },
  {
   "cell_type": "markdown",
   "id": "2d161172",
   "metadata": {},
   "source": [
    "Добавляем столбцы с временем между этапами и сразу приводим их к числовому типу float (так как с объектом timedelta неудобно будет в дальнейшем работать)"
   ]
  },
  {
   "cell_type": "code",
   "execution_count": 8,
   "id": "a43e321b",
   "metadata": {
    "scrolled": true
   },
   "outputs": [
    {
     "data": {
      "text/html": [
       "<div>\n",
       "<style scoped>\n",
       "    .dataframe tbody tr th:only-of-type {\n",
       "        vertical-align: middle;\n",
       "    }\n",
       "\n",
       "    .dataframe tbody tr th {\n",
       "        vertical-align: top;\n",
       "    }\n",
       "\n",
       "    .dataframe thead th {\n",
       "        text-align: right;\n",
       "    }\n",
       "</style>\n",
       "<table border=\"1\" class=\"dataframe\">\n",
       "  <thead>\n",
       "    <tr style=\"text-align: right;\">\n",
       "      <th>event_type</th>\n",
       "      <th>user_id</th>\n",
       "      <th>level_choice</th>\n",
       "      <th>pack_choice</th>\n",
       "      <th>purchase</th>\n",
       "      <th>registration</th>\n",
       "      <th>tutorial_finish</th>\n",
       "      <th>tutorial_start</th>\n",
       "      <th>group</th>\n",
       "      <th>timedelta_lc_reg</th>\n",
       "      <th>timedelta_pc_lc</th>\n",
       "      <th>timedelta_p_pc</th>\n",
       "      <th>timedelta_p_reg</th>\n",
       "    </tr>\n",
       "  </thead>\n",
       "  <tbody>\n",
       "    <tr>\n",
       "      <th>0</th>\n",
       "      <td>27832</td>\n",
       "      <td>NaT</td>\n",
       "      <td>NaT</td>\n",
       "      <td>NaT</td>\n",
       "      <td>2018-01-01 03:48:40</td>\n",
       "      <td>NaT</td>\n",
       "      <td>NaT</td>\n",
       "      <td>no_tutorial</td>\n",
       "      <td>NaN</td>\n",
       "      <td>NaN</td>\n",
       "      <td>NaN</td>\n",
       "      <td>NaN</td>\n",
       "    </tr>\n",
       "    <tr>\n",
       "      <th>1</th>\n",
       "      <td>27833</td>\n",
       "      <td>NaT</td>\n",
       "      <td>NaT</td>\n",
       "      <td>NaT</td>\n",
       "      <td>2018-01-01 04:07:25</td>\n",
       "      <td>2018-01-01 17:50:08</td>\n",
       "      <td>2018-01-01 17:47:40</td>\n",
       "      <td>finished</td>\n",
       "      <td>NaN</td>\n",
       "      <td>NaN</td>\n",
       "      <td>NaN</td>\n",
       "      <td>NaN</td>\n",
       "    </tr>\n",
       "    <tr>\n",
       "      <th>2</th>\n",
       "      <td>27834</td>\n",
       "      <td>NaT</td>\n",
       "      <td>NaT</td>\n",
       "      <td>NaT</td>\n",
       "      <td>2018-01-01 08:35:10</td>\n",
       "      <td>2018-01-01 19:48:01</td>\n",
       "      <td>2018-01-01 19:46:11</td>\n",
       "      <td>finished</td>\n",
       "      <td>NaN</td>\n",
       "      <td>NaN</td>\n",
       "      <td>NaN</td>\n",
       "      <td>NaN</td>\n",
       "    </tr>\n",
       "    <tr>\n",
       "      <th>3</th>\n",
       "      <td>27835</td>\n",
       "      <td>2018-01-01 20:37:22</td>\n",
       "      <td>2018-01-01 20:38:43</td>\n",
       "      <td>NaT</td>\n",
       "      <td>2018-01-01 11:54:47</td>\n",
       "      <td>2018-01-01 15:06:15</td>\n",
       "      <td>2018-01-01 15:00:51</td>\n",
       "      <td>finished</td>\n",
       "      <td>8.709722</td>\n",
       "      <td>0.0225</td>\n",
       "      <td>NaN</td>\n",
       "      <td>NaN</td>\n",
       "    </tr>\n",
       "    <tr>\n",
       "      <th>4</th>\n",
       "      <td>27836</td>\n",
       "      <td>NaT</td>\n",
       "      <td>NaT</td>\n",
       "      <td>NaT</td>\n",
       "      <td>2018-01-01 13:28:07</td>\n",
       "      <td>2018-01-01 15:42:58</td>\n",
       "      <td>2018-01-01 14:54:40</td>\n",
       "      <td>finished</td>\n",
       "      <td>NaN</td>\n",
       "      <td>NaN</td>\n",
       "      <td>NaN</td>\n",
       "      <td>NaN</td>\n",
       "    </tr>\n",
       "  </tbody>\n",
       "</table>\n",
       "</div>"
      ],
      "text/plain": [
       "event_type  user_id        level_choice         pack_choice purchase  \\\n",
       "0             27832                 NaT                 NaT      NaT   \n",
       "1             27833                 NaT                 NaT      NaT   \n",
       "2             27834                 NaT                 NaT      NaT   \n",
       "3             27835 2018-01-01 20:37:22 2018-01-01 20:38:43      NaT   \n",
       "4             27836                 NaT                 NaT      NaT   \n",
       "\n",
       "event_type        registration     tutorial_finish      tutorial_start  \\\n",
       "0          2018-01-01 03:48:40                 NaT                 NaT   \n",
       "1          2018-01-01 04:07:25 2018-01-01 17:50:08 2018-01-01 17:47:40   \n",
       "2          2018-01-01 08:35:10 2018-01-01 19:48:01 2018-01-01 19:46:11   \n",
       "3          2018-01-01 11:54:47 2018-01-01 15:06:15 2018-01-01 15:00:51   \n",
       "4          2018-01-01 13:28:07 2018-01-01 15:42:58 2018-01-01 14:54:40   \n",
       "\n",
       "event_type        group  timedelta_lc_reg  timedelta_pc_lc  timedelta_p_pc  \\\n",
       "0           no_tutorial               NaN              NaN             NaN   \n",
       "1              finished               NaN              NaN             NaN   \n",
       "2              finished               NaN              NaN             NaN   \n",
       "3              finished          8.709722           0.0225             NaN   \n",
       "4              finished               NaN              NaN             NaN   \n",
       "\n",
       "event_type  timedelta_p_reg  \n",
       "0                       NaN  \n",
       "1                       NaN  \n",
       "2                       NaN  \n",
       "3                       NaN  \n",
       "4                       NaN  "
      ]
     },
     "execution_count": 8,
     "metadata": {},
     "output_type": "execute_result"
    }
   ],
   "source": [
    "pivot_df['timedelta_lc_reg'] = (pivot_df['level_choice'] - pivot_df['registration'])/pd.Timedelta('1 hour')\n",
    "pivot_df['timedelta_pc_lc'] =( pivot_df['pack_choice'] - pivot_df['level_choice'])/pd.Timedelta('1 hour')\n",
    "pivot_df['timedelta_p_pc'] = (pivot_df['purchase'] - pivot_df['pack_choice'])/pd.Timedelta('1 hour')\n",
    "pivot_df['timedelta_p_reg'] = (pivot_df['purchase'] - pivot_df['registration'])/pd.Timedelta('1 hour')\n",
    "pivot_df.head()"
   ]
  },
  {
   "cell_type": "markdown",
   "id": "f5b44d51",
   "metadata": {},
   "source": [
    "Группируем по group и выводим среднее время прохождения каждого этапа (в часах):"
   ]
  },
  {
   "cell_type": "code",
   "execution_count": 9,
   "id": "281fdb50",
   "metadata": {},
   "outputs": [
    {
     "data": {
      "text/html": [
       "<div>\n",
       "<style scoped>\n",
       "    .dataframe tbody tr th:only-of-type {\n",
       "        vertical-align: middle;\n",
       "    }\n",
       "\n",
       "    .dataframe tbody tr th {\n",
       "        vertical-align: top;\n",
       "    }\n",
       "\n",
       "    .dataframe thead th {\n",
       "        text-align: right;\n",
       "    }\n",
       "</style>\n",
       "<table border=\"1\" class=\"dataframe\">\n",
       "  <thead>\n",
       "    <tr style=\"text-align: right;\">\n",
       "      <th>event_type</th>\n",
       "      <th>group</th>\n",
       "      <th>timedelta_lc_reg</th>\n",
       "      <th>timedelta_pc_lc</th>\n",
       "      <th>timedelta_p_pc</th>\n",
       "      <th>timedelta_p_reg</th>\n",
       "    </tr>\n",
       "  </thead>\n",
       "  <tbody>\n",
       "    <tr>\n",
       "      <th>0</th>\n",
       "      <td>finished</td>\n",
       "      <td>7.093571</td>\n",
       "      <td>0.088374</td>\n",
       "      <td>89.299900</td>\n",
       "      <td>96.500902</td>\n",
       "    </tr>\n",
       "    <tr>\n",
       "      <th>1</th>\n",
       "      <td>no_tutorial</td>\n",
       "      <td>5.259201</td>\n",
       "      <td>0.089951</td>\n",
       "      <td>100.825997</td>\n",
       "      <td>105.100530</td>\n",
       "    </tr>\n",
       "    <tr>\n",
       "      <th>2</th>\n",
       "      <td>not_finished</td>\n",
       "      <td>8.215987</td>\n",
       "      <td>0.084804</td>\n",
       "      <td>93.246363</td>\n",
       "      <td>101.548115</td>\n",
       "    </tr>\n",
       "  </tbody>\n",
       "</table>\n",
       "</div>"
      ],
      "text/plain": [
       "event_type         group  timedelta_lc_reg  timedelta_pc_lc  timedelta_p_pc  \\\n",
       "0               finished          7.093571         0.088374       89.299900   \n",
       "1            no_tutorial          5.259201         0.089951      100.825997   \n",
       "2           not_finished          8.215987         0.084804       93.246363   \n",
       "\n",
       "event_type  timedelta_p_reg  \n",
       "0                 96.500902  \n",
       "1                105.100530  \n",
       "2                101.548115  "
      ]
     },
     "execution_count": 9,
     "metadata": {},
     "output_type": "execute_result"
    }
   ],
   "source": [
    "grouped_df = pivot_df.groupby(['group'])[['timedelta_lc_reg','timedelta_pc_lc','timedelta_p_pc', 'timedelta_p_reg']].mean().reset_index()\n",
    "grouped_df"
   ]
  },
  {
   "cell_type": "markdown",
   "id": "5ebe00e8",
   "metadata": {},
   "source": [
    "Строим графики по каждому этапу:"
   ]
  },
  {
   "cell_type": "code",
   "execution_count": 10,
   "id": "cbee7014",
   "metadata": {},
   "outputs": [
    {
     "data": {
      "image/png": "[encoded data removed]",
      "text/plain": [
       "<Figure size 1368x216 with 4 Axes>"
      ]
     },
     "metadata": {
      "needs_background": "light"
     },
     "output_type": "display_data"
    }
   ],
   "source": [
    "fig, ax =plt.subplots(1,4, figsize=(19,3))\n",
    "sns.barplot(x = 'group', y = 'timedelta_lc_reg', data = grouped_df, ax=ax[0])\n",
    "ax[0].set_title('От регистрации до выбора уровня')\n",
    "sns.barplot(x = 'group', y = 'timedelta_pc_lc', data = grouped_df, ax=ax[1])\n",
    "ax[1].set_title('От выбора уровня до выбора пакетов')\n",
    "sns.barplot(x = 'group', y = 'timedelta_p_pc', data = grouped_df,ax=ax[2])\n",
    "ax[2].set_title('От выбора пакетов до покупки')\n",
    "sns.barplot(x = 'group', y = 'timedelta_p_reg', data = grouped_df,ax=ax[3])\n",
    "ax[3].set_title('От регистрации до покупки')\n",
    "fig.show()"
   ]
  },
  {
   "cell_type": "markdown",
   "id": "225e237a",
   "metadata": {},
   "source": [
    "## Выводы по первой гипотезе\n",
    "Как видно из таблицы и на графике, по первому временному промежутку между регистрацией и выбором уровня сложности наименьшее время у группы, не проходившей обучение (около 5 часов, тогда как у закончивших обучение 7 часов). Что логично, так как они не тратят время на обучение, как две другие группы. Временной промежуток от выбора уровня до выбора пакетов для каждой из групп ничтожно мал и примерно одинаков (примерно 5 минут). Время от выбора пакетов до покупки представляет наибольший интерес, так как покупка для нас самый важный этап. Наибольшее время (100 часов) у группы , не проходившей обучение. Это значит, что без обучения пользователи дольше решаются на покупку. И минимальное время у группы, окончевший обучение - 89 часов. И на последнем графике видно, что наибольшее общее время от регистрации до покупки у группы без обучения (105 часов). Получается, что обучение сокращает общее время до покупки на 8,6 часов. Значит гипотеза подтверждается: прохождение обучения влияет на итоговое время от регистрации до покупки. "
   ]
  },
  {
   "cell_type": "markdown",
   "id": "e0e13106",
   "metadata": {},
   "source": [
    "## 2.Проверка второй гипотезы\n",
    "\n",
    "Для проверки гипотезы выделим группы пользователей по количеству обучений, которые они закончили"
   ]
  },
  {
   "cell_type": "code",
   "execution_count": 11,
   "id": "24b92786",
   "metadata": {},
   "outputs": [
    {
     "data": {
      "text/html": [
       "<div>\n",
       "<style scoped>\n",
       "    .dataframe tbody tr th:only-of-type {\n",
       "        vertical-align: middle;\n",
       "    }\n",
       "\n",
       "    .dataframe tbody tr th {\n",
       "        vertical-align: top;\n",
       "    }\n",
       "\n",
       "    .dataframe thead th {\n",
       "        text-align: right;\n",
       "    }\n",
       "</style>\n",
       "<table border=\"1\" class=\"dataframe\">\n",
       "  <thead>\n",
       "    <tr style=\"text-align: right;\">\n",
       "      <th></th>\n",
       "      <th>user_id</th>\n",
       "      <th>tutorial_count</th>\n",
       "    </tr>\n",
       "  </thead>\n",
       "  <tbody>\n",
       "    <tr>\n",
       "      <th>0</th>\n",
       "      <td>29630</td>\n",
       "      <td>9</td>\n",
       "    </tr>\n",
       "    <tr>\n",
       "      <th>1</th>\n",
       "      <td>41227</td>\n",
       "      <td>9</td>\n",
       "    </tr>\n",
       "    <tr>\n",
       "      <th>2</th>\n",
       "      <td>39496</td>\n",
       "      <td>9</td>\n",
       "    </tr>\n",
       "    <tr>\n",
       "      <th>3</th>\n",
       "      <td>41413</td>\n",
       "      <td>9</td>\n",
       "    </tr>\n",
       "    <tr>\n",
       "      <th>4</th>\n",
       "      <td>44276</td>\n",
       "      <td>9</td>\n",
       "    </tr>\n",
       "    <tr>\n",
       "      <th>...</th>\n",
       "      <td>...</td>\n",
       "      <td>...</td>\n",
       "    </tr>\n",
       "    <tr>\n",
       "      <th>10245</th>\n",
       "      <td>46509</td>\n",
       "      <td>1</td>\n",
       "    </tr>\n",
       "    <tr>\n",
       "      <th>10246</th>\n",
       "      <td>34824</td>\n",
       "      <td>1</td>\n",
       "    </tr>\n",
       "    <tr>\n",
       "      <th>10247</th>\n",
       "      <td>43020</td>\n",
       "      <td>1</td>\n",
       "    </tr>\n",
       "    <tr>\n",
       "      <th>10248</th>\n",
       "      <td>40973</td>\n",
       "      <td>1</td>\n",
       "    </tr>\n",
       "    <tr>\n",
       "      <th>10249</th>\n",
       "      <td>32768</td>\n",
       "      <td>1</td>\n",
       "    </tr>\n",
       "  </tbody>\n",
       "</table>\n",
       "<p>10250 rows × 2 columns</p>\n",
       "</div>"
      ],
      "text/plain": [
       "       user_id  tutorial_count\n",
       "0        29630               9\n",
       "1        41227               9\n",
       "2        39496               9\n",
       "3        41413               9\n",
       "4        44276               9\n",
       "...        ...             ...\n",
       "10245    46509               1\n",
       "10246    34824               1\n",
       "10247    43020               1\n",
       "10248    40973               1\n",
       "10249    32768               1\n",
       "\n",
       "[10250 rows x 2 columns]"
      ]
     },
     "execution_count": 11,
     "metadata": {},
     "output_type": "execute_result"
    }
   ],
   "source": [
    "tutorial_count=total_events_df[total_events_df.event_type=='tutorial_finish'].user_id.value_counts().reset_index().rename(columns={'index':'user_id','user_id':'tutorial_count'})\n",
    "tutorial_count"
   ]
  },
  {
   "cell_type": "markdown",
   "id": "94826672",
   "metadata": {},
   "source": [
    "Добавим еще один столбец с отметкой о покупке"
   ]
  },
  {
   "cell_type": "code",
   "execution_count": 12,
   "id": "77ec0edd",
   "metadata": {},
   "outputs": [
    {
     "data": {
      "text/html": [
       "<div>\n",
       "<style scoped>\n",
       "    .dataframe tbody tr th:only-of-type {\n",
       "        vertical-align: middle;\n",
       "    }\n",
       "\n",
       "    .dataframe tbody tr th {\n",
       "        vertical-align: top;\n",
       "    }\n",
       "\n",
       "    .dataframe thead th {\n",
       "        text-align: right;\n",
       "    }\n",
       "</style>\n",
       "<table border=\"1\" class=\"dataframe\">\n",
       "  <thead>\n",
       "    <tr style=\"text-align: right;\">\n",
       "      <th></th>\n",
       "      <th>user_id</th>\n",
       "      <th>tutorial_count</th>\n",
       "      <th>purchase</th>\n",
       "    </tr>\n",
       "  </thead>\n",
       "  <tbody>\n",
       "    <tr>\n",
       "      <th>0</th>\n",
       "      <td>29630</td>\n",
       "      <td>9</td>\n",
       "      <td>purchase</td>\n",
       "    </tr>\n",
       "    <tr>\n",
       "      <th>1</th>\n",
       "      <td>41227</td>\n",
       "      <td>9</td>\n",
       "      <td>no_purchase</td>\n",
       "    </tr>\n",
       "    <tr>\n",
       "      <th>2</th>\n",
       "      <td>39496</td>\n",
       "      <td>9</td>\n",
       "      <td>no_purchase</td>\n",
       "    </tr>\n",
       "    <tr>\n",
       "      <th>3</th>\n",
       "      <td>41413</td>\n",
       "      <td>9</td>\n",
       "      <td>purchase</td>\n",
       "    </tr>\n",
       "    <tr>\n",
       "      <th>4</th>\n",
       "      <td>44276</td>\n",
       "      <td>9</td>\n",
       "      <td>no_purchase</td>\n",
       "    </tr>\n",
       "  </tbody>\n",
       "</table>\n",
       "</div>"
      ],
      "text/plain": [
       "   user_id  tutorial_count     purchase\n",
       "0    29630               9     purchase\n",
       "1    41227               9  no_purchase\n",
       "2    39496               9  no_purchase\n",
       "3    41413               9     purchase\n",
       "4    44276               9  no_purchase"
      ]
     },
     "execution_count": 12,
     "metadata": {},
     "output_type": "execute_result"
    }
   ],
   "source": [
    "purchas=total_events_df[total_events_df.event_type=='purchase'].user_id.value_counts().reset_index().rename(columns={'index':'user_id','user_id':'purchase'})\n",
    "tutorial_purchase=tutorial_count.merge(purchas, on='user_id', how='left')\n",
    "tutorial_purchase['purchase']=tutorial_purchase['purchase'].apply(lambda x:'purchase' if x>0 else 'no_purchase')\n",
    "tutorial_purchase.head()"
   ]
  },
  {
   "cell_type": "markdown",
   "id": "9dbe9360",
   "metadata": {},
   "source": [
    "Создадим сводную таблицу, в которой сведем данные по признаку покупки и количествам обучений:"
   ]
  },
  {
   "cell_type": "code",
   "execution_count": 13,
   "id": "244e9976",
   "metadata": {},
   "outputs": [
    {
     "data": {
      "text/html": [
       "<div>\n",
       "<style scoped>\n",
       "    .dataframe tbody tr th:only-of-type {\n",
       "        vertical-align: middle;\n",
       "    }\n",
       "\n",
       "    .dataframe tbody tr th {\n",
       "        vertical-align: top;\n",
       "    }\n",
       "\n",
       "    .dataframe thead th {\n",
       "        text-align: right;\n",
       "    }\n",
       "</style>\n",
       "<table border=\"1\" class=\"dataframe\">\n",
       "  <thead>\n",
       "    <tr style=\"text-align: right;\">\n",
       "      <th>purchase</th>\n",
       "      <th>no_purchase</th>\n",
       "      <th>purchase</th>\n",
       "    </tr>\n",
       "    <tr>\n",
       "      <th>tutorial_count</th>\n",
       "      <th></th>\n",
       "      <th></th>\n",
       "    </tr>\n",
       "  </thead>\n",
       "  <tbody>\n",
       "    <tr>\n",
       "      <th>1</th>\n",
       "      <td>6872</td>\n",
       "      <td>1143</td>\n",
       "    </tr>\n",
       "    <tr>\n",
       "      <th>2</th>\n",
       "      <td>1139</td>\n",
       "      <td>182</td>\n",
       "    </tr>\n",
       "    <tr>\n",
       "      <th>3</th>\n",
       "      <td>301</td>\n",
       "      <td>44</td>\n",
       "    </tr>\n",
       "    <tr>\n",
       "      <th>4</th>\n",
       "      <td>159</td>\n",
       "      <td>19</td>\n",
       "    </tr>\n",
       "    <tr>\n",
       "      <th>5</th>\n",
       "      <td>98</td>\n",
       "      <td>19</td>\n",
       "    </tr>\n",
       "    <tr>\n",
       "      <th>6</th>\n",
       "      <td>86</td>\n",
       "      <td>15</td>\n",
       "    </tr>\n",
       "    <tr>\n",
       "      <th>7</th>\n",
       "      <td>82</td>\n",
       "      <td>15</td>\n",
       "    </tr>\n",
       "    <tr>\n",
       "      <th>8</th>\n",
       "      <td>48</td>\n",
       "      <td>6</td>\n",
       "    </tr>\n",
       "    <tr>\n",
       "      <th>9</th>\n",
       "      <td>18</td>\n",
       "      <td>4</td>\n",
       "    </tr>\n",
       "  </tbody>\n",
       "</table>\n",
       "</div>"
      ],
      "text/plain": [
       "purchase        no_purchase  purchase\n",
       "tutorial_count                       \n",
       "1                      6872      1143\n",
       "2                      1139       182\n",
       "3                       301        44\n",
       "4                       159        19\n",
       "5                        98        19\n",
       "6                        86        15\n",
       "7                        82        15\n",
       "8                        48         6\n",
       "9                        18         4"
      ]
     },
     "execution_count": 13,
     "metadata": {},
     "output_type": "execute_result"
    }
   ],
   "source": [
    "pivot2=tutorial_purchase.pivot_table(index='tutorial_count', columns='purchase',values='user_id', aggfunc='nunique')\n",
    "pivot2"
   ]
  },
  {
   "cell_type": "markdown",
   "id": "c50b63c4",
   "metadata": {},
   "source": [
    "Строим графики по сводной таблице"
   ]
  },
  {
   "cell_type": "code",
   "execution_count": 14,
   "id": "1887c8a3",
   "metadata": {},
   "outputs": [
    {
     "data": {
      "image/png": "[encoded data removed]",
      "text/plain": [
       "<Figure size 1008x864 with 9 Axes>"
      ]
     },
     "metadata": {},
     "output_type": "display_data"
    }
   ],
   "source": [
    "fig, ax=plt.subplots(3, 3,figsize=(14, 12))\n",
    "for i  in pivot2.index:\n",
    "            j = (i-1) // 3 \n",
    "            k = (i-1) - j*3\n",
    "            pivot2.iloc[i-1].plot(kind='pie',autopct='%1.1f%%',ax=ax[j][k], label=f\"Обучений:{i}     \")"
   ]
  },
  {
   "cell_type": "markdown",
   "id": "c876ba81",
   "metadata": {},
   "source": [
    "Дополнительно рассчитаем, какой процент пользователей из тех, что не начинали ни одного обучения, совершает покупки (для сравнения):"
   ]
  },
  {
   "cell_type": "code",
   "execution_count": 15,
   "id": "32ca0fa2",
   "metadata": {},
   "outputs": [
    {
     "name": "stdout",
     "output_type": "stream",
     "text": [
      "Процент пользователей, которые оплатили (от числа пользователей, не начинавших обучение): 0.27%\n"
     ]
    }
   ],
   "source": [
    "users_registered =set(total_events_df[total_events_df['event_type'] == 'registration']['user_id'].unique())\n",
    "users_with_started_tutorial = set(total_events_df[total_events_df['event_type'] == 'tutorial_start']['user_id'].unique())\n",
    "not_started_tutorial=list(users_registered-users_with_started_tutorial)\n",
    "total_events_df1=total_events_df[(total_events_df.event_type=='purchase')&(total_events_df.user_id.isin(not_started_tutorial))]\n",
    "percent_of_purchase_1 =total_events_df1.user_id.nunique()/len(not_started_tutorial)\n",
    "print ('Процент пользователей, которые оплатили (от числа пользователей, не начинавших обучение): {:.2%}'.format(percent_of_purchase_1))"
   ]
  },
  {
   "cell_type": "markdown",
   "id": "80bbf68c",
   "metadata": {},
   "source": [
    "## Выводы по второй гипотезе:\n",
    "В ходе анализа было выявлено, что процент оплат по группам в зависимости от количества обучений примерно одинаков (от 10% до 20%). То есть конверсия для тех, кто прошел обучение 1 раз и 9 раз не сильно отличается, значит можно сказать, что успешное обучение само по себе влияет на оплату. Для сравнения была рассчитана конверсия оплат для тех, кто не начинал ни одного обучения. Для этой группы процент оплативших - 0,27%. Что еще раз подтверждает, что обучение влияет на дальнейшую покупку, соответственно необходимо привлекать пользователей проходить обучение."
   ]
  },
  {
   "cell_type": "markdown",
   "id": "b4a47e2e",
   "metadata": {},
   "source": [
    "## 3.Проверка третьей гипотезы\n",
    "\n",
    "Для этого отдельно сформируем датафрейм с отбором по событию - tutorial_start, сгруппировав по пользователям, выведем максимальное время начала обучения.\n",
    "И второй датафрейм с отбором по событию - level_choice, сгруппировав по пользователям.\n",
    "Объединим эти два датафрейма в одну таблицу time:"
   ]
  },
  {
   "cell_type": "code",
   "execution_count": 16,
   "id": "55b41836",
   "metadata": {},
   "outputs": [
    {
     "data": {
      "text/html": [
       "<div>\n",
       "<style scoped>\n",
       "    .dataframe tbody tr th:only-of-type {\n",
       "        vertical-align: middle;\n",
       "    }\n",
       "\n",
       "    .dataframe tbody tr th {\n",
       "        vertical-align: top;\n",
       "    }\n",
       "\n",
       "    .dataframe thead th {\n",
       "        text-align: right;\n",
       "    }\n",
       "</style>\n",
       "<table border=\"1\" class=\"dataframe\">\n",
       "  <thead>\n",
       "    <tr style=\"text-align: right;\">\n",
       "      <th></th>\n",
       "      <th>user_id</th>\n",
       "      <th>start_time_LC</th>\n",
       "      <th>start_time_Tut</th>\n",
       "    </tr>\n",
       "  </thead>\n",
       "  <tbody>\n",
       "    <tr>\n",
       "      <th>0</th>\n",
       "      <td>27835</td>\n",
       "      <td>2018-01-01 20:37:22</td>\n",
       "      <td>2018-01-01 15:00:51</td>\n",
       "    </tr>\n",
       "    <tr>\n",
       "      <th>1</th>\n",
       "      <td>27839</td>\n",
       "      <td>2018-01-01 22:37:50</td>\n",
       "      <td>2018-01-01 19:11:36</td>\n",
       "    </tr>\n",
       "    <tr>\n",
       "      <th>2</th>\n",
       "      <td>27840</td>\n",
       "      <td>2018-01-02 05:18:42</td>\n",
       "      <td>2018-01-02 02:07:07</td>\n",
       "    </tr>\n",
       "    <tr>\n",
       "      <th>3</th>\n",
       "      <td>27842</td>\n",
       "      <td>2018-01-02 08:46:03</td>\n",
       "      <td>2018-01-02 18:08:01</td>\n",
       "    </tr>\n",
       "    <tr>\n",
       "      <th>4</th>\n",
       "      <td>27843</td>\n",
       "      <td>2018-01-02 14:09:58</td>\n",
       "      <td>2018-01-02 13:34:51</td>\n",
       "    </tr>\n",
       "  </tbody>\n",
       "</table>\n",
       "</div>"
      ],
      "text/plain": [
       "   user_id       start_time_LC      start_time_Tut\n",
       "0    27835 2018-01-01 20:37:22 2018-01-01 15:00:51\n",
       "1    27839 2018-01-01 22:37:50 2018-01-01 19:11:36\n",
       "2    27840 2018-01-02 05:18:42 2018-01-02 02:07:07\n",
       "3    27842 2018-01-02 08:46:03 2018-01-02 18:08:01\n",
       "4    27843 2018-01-02 14:09:58 2018-01-02 13:34:51"
      ]
     },
     "execution_count": 16,
     "metadata": {},
     "output_type": "execute_result"
    }
   ],
   "source": [
    "tutorial_start_time=total_events_df[total_events_df['event_type'] == 'tutorial_start'].groupby(['user_id']).start_time.max().reset_index().rename(columns={'start_time': 'start_time_Tut'})\n",
    "levelch_start_time=total_events_df[total_events_df['event_type'] == 'level_choice'].groupby(['user_id']).start_time.min().reset_index().rename(columns={'start_time': 'start_time_LC'})\n",
    "time=levelch_start_time.merge(tutorial_start_time, on='user_id', how='inner')\n",
    "time.head()"
   ]
  },
  {
   "cell_type": "markdown",
   "id": "4c55e879",
   "metadata": {},
   "source": [
    "Выведем только тех, у кого время начала обучения больше времени выбора уровня:"
   ]
  },
  {
   "cell_type": "code",
   "execution_count": 17,
   "id": "7f53bf54",
   "metadata": {},
   "outputs": [
    {
     "name": "stdout",
     "output_type": "stream",
     "text": [
      "Начали обучение после выбора уровня 1386 пользователей. А всего пользователей, выбравших уровень 8342.\n",
      "Процент пользователей, перешедших к обучению после выбора уровня сложности  (от общего числа выбравших уровень): 16.61%\n"
     ]
    }
   ],
   "source": [
    "tutorial_after_lc_count=time[time['start_time_LC']<time['start_time_Tut']].user_id.nunique()\n",
    "level_choice_users_count = total_events_df[total_events_df['event_type'] == 'level_choice']['user_id'].nunique()\n",
    "print(f'Начали обучение после выбора уровня {tutorial_after_lc_count} пользователей. А всего пользователей, выбравших уровень {level_choice_users_count}.')\n",
    "print('Процент пользователей, перешедших к обучению после выбора уровня сложности  (от общего числа выбравших уровень): {:.2%}'.format(tutorial_after_lc_count/level_choice_users_count))"
   ]
  },
  {
   "cell_type": "markdown",
   "id": "fe4510fa",
   "metadata": {},
   "source": [
    "## Выводы по третьей гипотезе:\n",
    "По полученным данным видим, что 1386 пользователей возвращаются к обучению после выбора уровня сложности, что составляет 16% от общего числа выбравших уровень сложности. Это означает, что части пользователям работа с приложением непонятна, соответвенно требует доработки."
   ]
  }
 ],
 "metadata": {
  "kernelspec": {
   "display_name": "Python 3",
   "language": "python",
   "name": "python3"
  },
  "language_info": {
   "codemirror_mode": {
    "name": "ipython",
    "version": 3
   },
   "file_extension": ".py",
   "mimetype": "text/x-python",
   "name": "python",
   "nbconvert_exporter": "python",
   "pygments_lexer": "ipython3",
   "version": "3.8.8"
  }
 },
 "nbformat": 4,
 "nbformat_minor": 5
}
